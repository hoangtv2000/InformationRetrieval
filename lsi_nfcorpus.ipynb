{
 "cells": [
  {
   "cell_type": "code",
   "execution_count": 1,
   "metadata": {},
   "outputs": [],
   "source": [
    "import gensim\n",
    "from gensim.parsing.preprocessing import preprocess_documents\n",
    "from gensim.models.coherencemodel import CoherenceModel\n",
    "import matplotlib.pyplot as plt\n",
    "import numpy as np\n",
    "from nltk.stem import PorterStemmer\n",
    "import time"
   ]
  },
  {
   "cell_type": "code",
   "execution_count": 2,
   "metadata": {},
   "outputs": [],
   "source": [
    "def load_stop():\n",
    "    f = open('./nfcorpus/raw/stopwords.large', 'r', encoding='utf-8')\n",
    "    stopwords = [word.replace('\\n','') for word in f.readlines()]\n",
    "    return stopwords\n",
    "\n",
    "stopwords = load_stop()"
   ]
  },
  {
   "cell_type": "code",
   "execution_count": 3,
   "metadata": {},
   "outputs": [],
   "source": [
    "stemmer = PorterStemmer()\n",
    "\n",
    "def load_data(path):\n",
    "    files = open(path, 'r', encoding='utf-8')\n",
    "    raw_docs = files.readlines()\n",
    "    raw_docs = [doc.replace('\\t', ' ').replace('\\n', '').split() for doc in raw_docs]\n",
    "    title = []\n",
    "    docs = []\n",
    "    \n",
    "    for doc in raw_docs:\n",
    "        title.append(doc[0])\n",
    "        content = \" \".join(doc[1:])\n",
    "        content = gensim.utils.simple_preprocess(content)\n",
    "        content = [non_stopword for non_stopword in content if non_stopword not in stopwords]\n",
    "        content = [stemmer.stem(word) for word in content]\n",
    "        docs.append(content)\n",
    "\n",
    "    return np.array(docs), np.array(title)"
   ]
  },
  {
   "cell_type": "markdown",
   "metadata": {},
   "source": [
    "### Tập train"
   ]
  },
  {
   "cell_type": "code",
   "execution_count": 4,
   "metadata": {},
   "outputs": [
    {
     "name": "stderr",
     "output_type": "stream",
     "text": [
      "C:\\Users\\ASUS\\AppData\\Roaming\\Python\\Python37\\site-packages\\ipykernel_launcher.py:18: VisibleDeprecationWarning: Creating an ndarray from ragged nested sequences (which is a list-or-tuple of lists-or-tuples-or ndarrays with different lengths or shapes) is deprecated. If you meant to do this, you must specify 'dtype=object' when creating the ndarray\n"
     ]
    }
   ],
   "source": [
    "docs, docs_title = load_data('./nfcorpus/train/train.docs')"
   ]
  },
  {
   "cell_type": "code",
   "execution_count": 5,
   "metadata": {},
   "outputs": [
    {
     "name": "stderr",
     "output_type": "stream",
     "text": [
      "C:\\Users\\ASUS\\AppData\\Roaming\\Python\\Python37\\site-packages\\ipykernel_launcher.py:18: VisibleDeprecationWarning: Creating an ndarray from ragged nested sequences (which is a list-or-tuple of lists-or-tuples-or ndarrays with different lengths or shapes) is deprecated. If you meant to do this, you must specify 'dtype=object' when creating the ndarray\n"
     ]
    }
   ],
   "source": [
    "queries, queries_title = load_data('./nfcorpus/train/train.all.queries')"
   ]
  },
  {
   "cell_type": "code",
   "execution_count": 7,
   "metadata": {},
   "outputs": [],
   "source": [
    "dictionary = gensim.corpora.Dictionary(docs)\n",
    "corpus = [dictionary.doc2bow(text) for text in docs]"
   ]
  },
  {
   "cell_type": "code",
   "execution_count": 8,
   "metadata": {},
   "outputs": [],
   "source": [
    "tfidf = gensim.models.TfidfModel(corpus, smartirs='npu')\n",
    "corpus_tfidf = tfidf[corpus]"
   ]
  },
  {
   "cell_type": "code",
   "execution_count": 15,
   "metadata": {},
   "outputs": [],
   "source": [
    "lsi = gensim.models.LsiModel(corpus_tfidf, num_topics=1500)\n",
    "index = gensim.similarities.MatrixSimilarity(lsi[corpus_tfidf])"
   ]
  },
  {
   "cell_type": "code",
   "execution_count": 10,
   "metadata": {},
   "outputs": [],
   "source": [
    "fqrel = open('./nfcorpus/train/train.3-2-1.qrel', 'r', encoding='utf-8')\n",
    "qrel = []\n",
    "for f in fqrel.readlines():\n",
    "    content = f.replace('\\t', ' ').replace('\\n', '').split()\n",
    "    qrel.append([content[0], content[2]])\n",
    "\n",
    "groundtruth = [[] for i in range(len(queries))]\n",
    "groundtruth_title = []\n",
    "for i in qrel:\n",
    "    if i[0] not in groundtruth_title:\n",
    "        groundtruth_title.append(i[0])\n",
    "    element = groundtruth_title.index(i[0])\n",
    "    groundtruth[element].append(i[1])\n"
   ]
  },
  {
   "cell_type": "code",
   "execution_count": 6,
   "metadata": {},
   "outputs": [],
   "source": [
    "def Calculate_AP(retrieval, query):\n",
    "    precision = 0\n",
    "    precision_list = []\n",
    "    recall_list = []\n",
    "\n",
    "    for i in range(len(retrieval)):\n",
    "        if retrieval[i] in query:\n",
    "            precision += 1\n",
    "            precision_list.append(float(precision)/(i+1))\n",
    "            recall_list.append(float(precision)/len(query))\n",
    "\n",
    "    temp = 0\n",
    "    for i in range(len(precision_list)-1,-1,-1):\n",
    "        if temp >= precision_list[i]:\n",
    "            precision_list[i] = temp\n",
    "        elif temp < precision_list[i]:\n",
    "            temp = precision_list[i]\n",
    "    \n",
    "    precision_list_11 = []\n",
    "    for i in range(11):\n",
    "        for j in range(len(recall_list)):\n",
    "            if recall_list[j] >= (i/10):\n",
    "                precision_list_11.append(max(precision_list[j:]))\n",
    "                break\n",
    "    if len(precision_list_11) < 11:\n",
    "        precision_list_11 += [0]*(11-len(precision_list_11))\n",
    "\n",
    "    return sum(precision_list_11)/len(precision_list_11)\n",
    "\n",
    "def mAP(rank, qrel_truth, qrel_truth_title, qrel_title ):\n",
    "    mAP = []\n",
    "    for i in range(len(rank)):\n",
    "        element = qrel_truth_title.index(qrel_title[i])\n",
    "        ap = Calculate_AP(rank[i], qrel_truth[element])\n",
    "        mAP.append(ap)\n",
    "    return np.mean(np.array(mAP))"
   ]
  },
  {
   "cell_type": "code",
   "execution_count": 7,
   "metadata": {},
   "outputs": [],
   "source": [
    "def ranking(_lsi, _index, queries):\n",
    "    all_rank = []\n",
    "    for query in queries:\n",
    "        new_vec = dictionary.doc2bow(query)\n",
    "        vec_tfidf = tfidf[new_vec]\n",
    "        vec_lsi = _lsi[vec_tfidf]\n",
    "        sims = _index[vec_lsi]\n",
    "        rank = np.argsort(sims)[::-1]\n",
    "        all_rank.append(rank)\n",
    "\n",
    "    return all_rank"
   ]
  },
  {
   "cell_type": "code",
   "execution_count": 16,
   "metadata": {},
   "outputs": [],
   "source": [
    "all_rank = ranking(lsi, index, queries)\n",
    "all_rank_title = docs_title[all_rank]"
   ]
  },
  {
   "cell_type": "code",
   "execution_count": 17,
   "metadata": {},
   "outputs": [
    {
     "name": "stdout",
     "output_type": "stream",
     "text": [
      "Kết quả MAP: 0.22198262883600367\n"
     ]
    }
   ],
   "source": [
    "print(f'Kết quả MAP: {mAP(all_rank_title, groundtruth, groundtruth_title, queries_title)}')"
   ]
  },
  {
   "cell_type": "code",
   "execution_count": null,
   "metadata": {},
   "outputs": [],
   "source": []
  },
  {
   "cell_type": "code",
   "execution_count": 13,
   "metadata": {},
   "outputs": [
    {
     "name": "stdout",
     "output_type": "stream",
     "text": [
      "Executed tf-idf time: 1029.799358844757\n"
     ]
    }
   ],
   "source": [
    "start_time = time.time()\n",
    "\n",
    "map_value = []\n",
    "for num_topic in range(100,3000, 200):\n",
    "    model = gensim.models.LsiModel(corpus_tfidf, num_topics=num_topic)\n",
    "    indexing = gensim.similarities.MatrixSimilarity(model[corpus_tfidf])\n",
    "    all_rank = ranking(model, indexing, queries)\n",
    "    all_rank_title = docs_title[all_rank]\n",
    "    map_value.append(mAP(all_rank_title, groundtruth, groundtruth_title, queries_title))\n",
    "\n",
    "print('Executed tf-idf time: {}'.format(time.time() - start_time))"
   ]
  },
  {
   "cell_type": "code",
   "execution_count": 14,
   "metadata": {},
   "outputs": [
    {
     "data": {
      "image/png": "[encoded data removed]",
      "text/plain": [
       "<Figure size 432x288 with 1 Axes>"
      ]
     },
     "metadata": {
      "needs_background": "light"
     },
     "output_type": "display_data"
    }
   ],
   "source": [
    "x=range(100,3000, 200)\n",
    "plt.plot(x, map_value)\n",
    "plt.xlabel('Number of Topics')\n",
    "plt.ylabel('mAP score')\n",
    "plt.show()"
   ]
  },
  {
   "cell_type": "code",
   "execution_count": null,
   "metadata": {},
   "outputs": [],
   "source": []
  },
  {
   "cell_type": "markdown",
   "metadata": {},
   "source": [
    "### Plot so sánh 3 tập train dev test"
   ]
  },
  {
   "cell_type": "code",
   "execution_count": 15,
   "metadata": {},
   "outputs": [
    {
     "data": {
      "image/png": "[encoded data removed]",
      "text/plain": [
       "<Figure size 432x288 with 1 Axes>"
      ]
     },
     "metadata": {
      "needs_background": "light"
     },
     "output_type": "display_data"
    }
   ],
   "source": [
    "x=range(100,3000, 200)\n",
    "plt.plot(x, map_value_train, label='train')\n",
    "plt.plot(x, map_value_dev, label='dev')\n",
    "plt.plot(x, map_value_test, label='test')\n",
    "plt.legend()\n",
    "plt.xlabel('Number of Topics')\n",
    "plt.ylabel('mAP score')\n",
    "plt.show()"
   ]
  },
  {
   "cell_type": "code",
   "execution_count": 20,
   "metadata": {},
   "outputs": [
    {
     "data": {
      "text/plain": [
       "(0.2313387121157705, 0.2312117146503147)"
      ]
     },
     "execution_count": 20,
     "metadata": {},
     "output_type": "execute_result"
    }
   ],
   "source": [
    "np.max(map_value_test), np.max(map_value_dev)"
   ]
  },
  {
   "cell_type": "code",
   "execution_count": null,
   "metadata": {},
   "outputs": [],
   "source": []
  },
  {
   "cell_type": "markdown",
   "metadata": {},
   "source": [
    "### Dev"
   ]
  },
  {
   "cell_type": "code",
   "execution_count": 8,
   "metadata": {},
   "outputs": [
    {
     "name": "stderr",
     "output_type": "stream",
     "text": [
      "C:\\Users\\ASUS\\AppData\\Roaming\\Python\\Python37\\site-packages\\ipykernel_launcher.py:18: VisibleDeprecationWarning: Creating an ndarray from ragged nested sequences (which is a list-or-tuple of lists-or-tuples-or ndarrays with different lengths or shapes) is deprecated. If you meant to do this, you must specify 'dtype=object' when creating the ndarray\n"
     ]
    },
    {
     "name": "stdout",
     "output_type": "stream",
     "text": [
      "Kết quả MAP: 0.23034476355825317\n"
     ]
    }
   ],
   "source": [
    "docs, docs_title = load_data('./nfcorpus/dev/dev.docs')\n",
    "queries, queries_title = load_data('./nfcorpus/dev/dev.all.queries')\n",
    "dictionary = gensim.corpora.Dictionary(docs)\n",
    "corpus = [dictionary.doc2bow(text) for text in docs]\n",
    "tfidf = gensim.models.TfidfModel(corpus, smartirs='npu')\n",
    "corpus_tfidf = tfidf[corpus]\n",
    "lsi = gensim.models.LsiModel(corpus_tfidf, num_topics=1500)\n",
    "index = gensim.similarities.MatrixSimilarity(lsi[corpus_tfidf])\n",
    "\n",
    "fqrel = open('./nfcorpus/dev/dev.3-2-1.qrel', 'r', encoding='utf-8')\n",
    "qrel = []\n",
    "for f in fqrel.readlines():\n",
    "    content = f.replace('\\t', ' ').replace('\\n', '').split()\n",
    "    qrel.append([content[0], content[2]])\n",
    "\n",
    "groundtruth = [[] for i in range(len(queries))]\n",
    "groundtruth_title = []\n",
    "for i in qrel:\n",
    "    if i[0] not in groundtruth_title:\n",
    "        groundtruth_title.append(i[0])\n",
    "    element = groundtruth_title.index(i[0])\n",
    "    groundtruth[element].append(i[1])\n",
    "\n",
    "all_rank = ranking(lsi, index, queries)\n",
    "all_rank_title = docs_title[all_rank]\n",
    "print(f'Kết quả MAP: {mAP(all_rank_title, groundtruth, groundtruth_title, queries_title)}')"
   ]
  },
  {
   "cell_type": "code",
   "execution_count": 19,
   "metadata": {},
   "outputs": [
    {
     "name": "stdout",
     "output_type": "stream",
     "text": [
      "Executed tf-idf time: 968.4999442100525\n"
     ]
    },
    {
     "data": {
      "image/png": "[encoded data removed]",
      "text/plain": [
       "<Figure size 432x288 with 1 Axes>"
      ]
     },
     "metadata": {
      "needs_background": "light"
     },
     "output_type": "display_data"
    }
   ],
   "source": [
    "start_time = time.time()\n",
    "\n",
    "map_value = []\n",
    "for num_topic in range(100,3000, 200):\n",
    "    model = gensim.models.LsiModel(corpus_tfidf, num_topics=num_topic)\n",
    "    indexing = gensim.similarities.MatrixSimilarity(model[corpus_tfidf])\n",
    "    all_rank = ranking(model, indexing, queries)\n",
    "    all_rank_title = docs_title[all_rank]\n",
    "    map_value.append(mAP(all_rank_title, groundtruth, groundtruth_title, queries_title))\n",
    "\n",
    "print('Executed tf-idf time: {}'.format(time.time() - start_time))\n",
    "\n",
    "x=range(100,3000, 200)\n",
    "plt.plot(x, map_value)\n",
    "plt.xlabel('Number of Topics')\n",
    "plt.ylabel('mAP score')\n",
    "plt.show()"
   ]
  },
  {
   "cell_type": "code",
   "execution_count": null,
   "metadata": {},
   "outputs": [],
   "source": []
  },
  {
   "cell_type": "markdown",
   "metadata": {},
   "source": [
    "### test"
   ]
  },
  {
   "cell_type": "code",
   "execution_count": 14,
   "metadata": {},
   "outputs": [
    {
     "name": "stderr",
     "output_type": "stream",
     "text": [
      "C:\\Users\\ASUS\\AppData\\Roaming\\Python\\Python37\\site-packages\\ipykernel_launcher.py:18: VisibleDeprecationWarning: Creating an ndarray from ragged nested sequences (which is a list-or-tuple of lists-or-tuples-or ndarrays with different lengths or shapes) is deprecated. If you meant to do this, you must specify 'dtype=object' when creating the ndarray\n"
     ]
    },
    {
     "name": "stdout",
     "output_type": "stream",
     "text": [
      "Kết quả MAP: 0.22861376349254867\n"
     ]
    }
   ],
   "source": [
    "docs, docs_title = load_data('./nfcorpus/test/test.docs')\n",
    "queries, queries_title = load_data('./nfcorpus/test/test.all.queries')\n",
    "dictionary = gensim.corpora.Dictionary(docs)\n",
    "corpus = [dictionary.doc2bow(text) for text in docs]\n",
    "tfidf = gensim.models.TfidfModel(corpus, smartirs='npu')\n",
    "corpus_tfidf = tfidf[corpus]\n",
    "lsi = gensim.models.LsiModel(corpus_tfidf, num_topics=1400)\n",
    "index = gensim.similarities.MatrixSimilarity(lsi[corpus_tfidf])\n",
    "\n",
    "fqrel = open('./nfcorpus/test/test.3-2-1.qrel', 'r', encoding='utf-8')\n",
    "qrel = []\n",
    "for f in fqrel.readlines():\n",
    "    content = f.replace('\\t', ' ').replace('\\n', '').split()\n",
    "    qrel.append([content[0], content[2]])\n",
    "\n",
    "groundtruth = [[] for i in range(len(queries))]\n",
    "groundtruth_title = []\n",
    "for i in qrel:\n",
    "    if i[0] not in groundtruth_title:\n",
    "        groundtruth_title.append(i[0])\n",
    "    element = groundtruth_title.index(i[0])\n",
    "    groundtruth[element].append(i[1])\n",
    "\n",
    "all_rank = ranking(lsi, index, queries)\n",
    "all_rank_title = docs_title[all_rank]\n",
    "print(f'Kết quả MAP: {mAP(all_rank_title, groundtruth, groundtruth_title, queries_title)}')"
   ]
  },
  {
   "cell_type": "code",
   "execution_count": 13,
   "metadata": {},
   "outputs": [
    {
     "name": "stdout",
     "output_type": "stream",
     "text": [
      "Executed tf-idf time: 624.6375017166138\n"
     ]
    },
    {
     "data": {
      "image/png": "[encoded data removed]",
      "text/plain": [
       "<Figure size 432x288 with 1 Axes>"
      ]
     },
     "metadata": {
      "needs_background": "light"
     },
     "output_type": "display_data"
    }
   ],
   "source": [
    "start_time = time.time()\n",
    "\n",
    "map_value = []\n",
    "for num_topic in range(100,3000, 200):\n",
    "    model = gensim.models.LsiModel(corpus_tfidf, num_topics=num_topic)\n",
    "    indexing = gensim.similarities.MatrixSimilarity(model[corpus_tfidf])\n",
    "    all_rank = ranking(model, indexing, queries)\n",
    "    all_rank_title = docs_title[all_rank]\n",
    "    map_value.append(mAP(all_rank_title, groundtruth, groundtruth_title, queries_title))\n",
    "\n",
    "print('Executed tf-idf time: {}'.format(time.time() - start_time))\n",
    "\n",
    "x=range(100,3000, 200)\n",
    "plt.plot(x, map_value)\n",
    "plt.xlabel('Number of Topics')\n",
    "plt.ylabel('mAP score')\n",
    "plt.show()"
   ]
  },
  {
   "cell_type": "code",
   "execution_count": 15,
   "metadata": {},
   "outputs": [
    {
     "data": {
      "text/plain": [
       "0.23123597153242018"
      ]
     },
     "execution_count": 15,
     "metadata": {},
     "output_type": "execute_result"
    }
   ],
   "source": [
    "np.max(map_value)"
   ]
  }
 ],
 "metadata": {
  "interpreter": {
   "hash": "669c57335d814790a0a8ea20dc08c100929a5b6e7176d5937f3f567eb2cddf61"
  },
  "kernelspec": {
   "display_name": "Python 3.7.9 64-bit",
   "language": "python",
   "name": "python3"
  },
  "language_info": {
   "codemirror_mode": {
    "name": "ipython",
    "version": 3
   },
   "file_extension": ".py",
   "mimetype": "text/x-python",
   "name": "python",
   "nbconvert_exporter": "python",
   "pygments_lexer": "ipython3",
   "version": "3.7.9"
  },
  "orig_nbformat": 4
 },
 "nbformat": 4,
 "nbformat_minor": 2
}

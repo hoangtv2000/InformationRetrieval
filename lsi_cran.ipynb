{
 "cells": [
  {
   "cell_type": "code",
   "execution_count": 48,
   "metadata": {},
   "outputs": [],
   "source": [
    "import gensim\n",
    "import matplotlib.pyplot as plt\n",
    "import numpy as np\n",
    "from nltk.stem import PorterStemmer\n",
    "import nltk\n",
    "import time"
   ]
  },
  {
   "cell_type": "code",
   "execution_count": 49,
   "metadata": {},
   "outputs": [],
   "source": [
    "stopwords = nltk.corpus.stopwords.words('english')\n",
    "stemmer = PorterStemmer()\n",
    "\n",
    "def load_data(path):\n",
    "    files = open(path, 'r', encoding='utf-8')\n",
    "    raw_docs = files.readlines()\n",
    "    docs = []\n",
    "    flag = 0\n",
    "    temp = \"\"\n",
    "    for doc in raw_docs:\n",
    "        if doc[:2] == '.I':\n",
    "            flag = 0\n",
    "            docs.append(temp)\n",
    "            temp = \"\"\n",
    "        elif doc[:2] == '.W':\n",
    "            flag = 1\n",
    "        elif flag == 1:\n",
    "            content = doc.replace('.', '').replace(\"''\", '').replace('\\n', '').lower()\n",
    "            content = gensim.utils.simple_preprocess(content)\n",
    "            content = [\" \"+non_stopword for non_stopword in content if non_stopword not in stopwords]\n",
    "            content = [stemmer.stem(word) for word in content]\n",
    "            temp +=  \" \".join(content)\n",
    "\n",
    "    docs = np.asarray(docs[1:])\n",
    "    return docs"
   ]
  },
  {
   "cell_type": "code",
   "execution_count": 3,
   "metadata": {},
   "outputs": [],
   "source": [
    "docs = load_data('cran.all.1400')\n",
    "docs = [doc.split() for doc in docs]"
   ]
  },
  {
   "cell_type": "code",
   "execution_count": 4,
   "metadata": {},
   "outputs": [],
   "source": [
    "queries = load_data('cran.qry')\n",
    "queries = [query.split() for query in queries]"
   ]
  },
  {
   "cell_type": "code",
   "execution_count": 5,
   "metadata": {},
   "outputs": [],
   "source": [
    "dictionary = gensim.corpora.Dictionary(docs)\n",
    "corpus = [dictionary.doc2bow(text) for text in docs]"
   ]
  },
  {
   "cell_type": "code",
   "execution_count": 6,
   "metadata": {},
   "outputs": [],
   "source": [
    "tfidf = gensim.models.TfidfModel(corpus, smartirs='npu')\n",
    "corpus_tfidf = tfidf[corpus]"
   ]
  },
  {
   "cell_type": "code",
   "execution_count": 53,
   "metadata": {},
   "outputs": [
    {
     "data": {
      "text/plain": [
       "[(0, 0.046833881000219256),\n",
       " (1, 0.07619211165561775),\n",
       " (2, 0.04203839939052154),\n",
       " (3, 0.059104440634731775),\n",
       " (4, 0.07256489535439657),\n",
       " (5, 0.016646463716567104),\n",
       " (6, 0.037581807606420346),\n",
       " (7, 0.0680584678312247),\n",
       " (8, 0.07534255875593336),\n",
       " (9, 0.05707967436585535)]"
      ]
     },
     "execution_count": 53,
     "metadata": {},
     "output_type": "execute_result"
    }
   ],
   "source": [
    "corpus_tfidf[0][:10]"
   ]
  },
  {
   "cell_type": "code",
   "execution_count": 7,
   "metadata": {},
   "outputs": [],
   "source": [
    "lsi = gensim.models.LsiModel(corpus_tfidf, num_topics=280)\n",
    "index = gensim.similarities.MatrixSimilarity(lsi[corpus_tfidf]) #Cosine Similarity"
   ]
  },
  {
   "cell_type": "code",
   "execution_count": 33,
   "metadata": {},
   "outputs": [
    {
     "data": {
      "text/plain": [
       "[(0, 0.16800342273043603),\n",
       " (1, -0.015095275558128278),\n",
       " (2, 0.09843736164586996),\n",
       " (3, 0.14586960249330438),\n",
       " (4, -0.04071016321040013),\n",
       " (5, -0.03785180177562449),\n",
       " (6, -0.02584938097604107),\n",
       " (7, -0.0037506982612062444),\n",
       " (8, -0.022297153848275623),\n",
       " (9, 0.05669339240658127)]"
      ]
     },
     "execution_count": 33,
     "metadata": {},
     "output_type": "execute_result"
    }
   ],
   "source": [
    "lsi[corpus_tfidf][0][:10]"
   ]
  },
  {
   "cell_type": "code",
   "execution_count": 46,
   "metadata": {},
   "outputs": [],
   "source": [
    "def Calculate_AP(retrieval, query):\n",
    "    precision = 0\n",
    "    precision_list = []\n",
    "    recall_list = []\n",
    "\n",
    "    for i in range(len(retrieval)):\n",
    "        if retrieval[i] in query:\n",
    "            precision += 1\n",
    "            precision_list.append(float(precision)/(i+1))\n",
    "            recall_list.append(float(precision)/len(query))\n",
    "\n",
    "    temp = 0\n",
    "    for i in range(len(precision_list)-1,-1,-1):\n",
    "        if temp >= precision_list[i]:\n",
    "            precision_list[i] = temp\n",
    "        elif temp < precision_list[i]:\n",
    "            temp = precision_list[i]\n",
    "    \n",
    "    precision_list_11 = []\n",
    "    for i in range(11):\n",
    "        for j in range(len(recall_list)):\n",
    "            if recall_list[j] >= (i/10):\n",
    "                precision_list_11.append(max(precision_list[j:]))\n",
    "                break\n",
    "    if len(precision_list_11) < 11:\n",
    "        precision_list_11 += [0]*(11-len(precision_list_11))\n",
    "\n",
    "    return sum(precision_list_11)/len(precision_list_11)\n",
    "\n",
    "def mAP(rank, qrel):\n",
    "    mAP = []\n",
    "    for i in range(len(rank)):\n",
    "        ap = Calculate_AP(rank[i], qrel[i])\n",
    "        mAP.append(ap)\n",
    "    return np.mean(np.array(mAP))\n",
    "\n",
    "def cosine_similarity(corpus_lsi,query_lsi):\n",
    "    matrix_term = []\n",
    "    for idx in corpus_lsi:\n",
    "        term_vec = [value[1] for value in idx]\n",
    "        if term_vec == []:\n",
    "            matrix_term.append(np.array([0.000000001]*len(corpus_lsi[0])))\n",
    "        else:\n",
    "            matrix_term.append(np.array(term_vec))\n",
    "    matrix_term = np.array(matrix_term)\n",
    "    query_term = np.array([value[1] for value in query_lsi])\n",
    "    \n",
    "    return np.dot(matrix_term, query_term) / (np.linalg.norm(matrix_term) * np.linalg.norm(query_term))"
   ]
  },
  {
   "cell_type": "code",
   "execution_count": 47,
   "metadata": {},
   "outputs": [],
   "source": [
    "fqrel = open('cranqrel', 'r', encoding='utf-8')\n",
    "qrel = []\n",
    "for f in fqrel.readlines():\n",
    "    qrel.append(f.split()[:2])\n",
    "    \n",
    "groundtruth = [[] for i in range(225)]\n",
    "\n",
    "for i in qrel:\n",
    "    idx = int(i[0]) - 1\n",
    "    truth = int(i[1]) - 1\n",
    "    groundtruth[idx].append(truth)"
   ]
  },
  {
   "cell_type": "code",
   "execution_count": 10,
   "metadata": {},
   "outputs": [],
   "source": [
    "import time\n",
    "\n",
    "def ranking(_lsi, _index, queries):\n",
    "    all_rank = []\n",
    "    for query in queries:\n",
    "        new_vec = dictionary.doc2bow(query)\n",
    "        vec_tfidf = tfidf[new_vec]\n",
    "        vec_lsi = _lsi[vec_tfidf]\n",
    "        sims = _index[vec_lsi]\n",
    "        # sims = cosine_similarity(lsi[corpus_tfidf], vec_lsi)\n",
    "        rank = np.argsort(sims)[::-1]\n",
    "        all_rank.append(rank)\n",
    "\n",
    "    return all_rank"
   ]
  },
  {
   "cell_type": "code",
   "execution_count": 11,
   "metadata": {},
   "outputs": [
    {
     "name": "stdout",
     "output_type": "stream",
     "text": [
      "Executed tf-idf time: 0.694598913192749\n",
      "Kết quả MAP: 0.43729703604940967\n"
     ]
    }
   ],
   "source": [
    "start_time = time.time()\n",
    "all_rank = ranking(lsi, index, queries)\n",
    "print('Executed tf-idf time: {}'.format(time.time() - start_time))\n",
    "print(f'Kết quả MAP: {mAP(all_rank, groundtruth)}')"
   ]
  },
  {
   "cell_type": "code",
   "execution_count": 16,
   "metadata": {},
   "outputs": [
    {
     "data": {
      "image/png": "[encoded data removed]",
      "text/plain": [
       "<Figure size 432x288 with 1 Axes>"
      ]
     },
     "metadata": {
      "needs_background": "light"
     },
     "output_type": "display_data"
    }
   ],
   "source": [
    "map_value = []\n",
    "for num_topic in range(100,1000, 100):\n",
    "    model = gensim.models.LsiModel(corpus_tfidf, num_topics=num_topic)\n",
    "    indexing = gensim.similarities.MatrixSimilarity(model[corpus_tfidf])\n",
    "    all_rank = ranking(model, indexing, queries)\n",
    "    map_value.append(mAP(all_rank, groundtruth))\n",
    "\n",
    "x=range(100,1000,100)\n",
    "plt.plot(x, map_value)\n",
    "plt.xlabel('Number of Topics')\n",
    "plt.ylabel('mAP score')\n",
    "plt.show()"
   ]
  },
  {
   "cell_type": "code",
   "execution_count": 15,
   "metadata": {},
   "outputs": [
    {
     "data": {
      "image/png": "[encoded data removed]",
      "text/plain": [
       "<Figure size 432x288 with 1 Axes>"
      ]
     },
     "metadata": {
      "needs_background": "light"
     },
     "output_type": "display_data"
    }
   ],
   "source": [
    "map_value = []\n",
    "for num_topic in range(200,300, 20):\n",
    "    model = gensim.models.LsiModel(corpus_tfidf, num_topics=num_topic)\n",
    "    indexing = gensim.similarities.MatrixSimilarity(model[corpus_tfidf])\n",
    "    all_rank = ranking(model, indexing, queries)\n",
    "    map_value.append(mAP(all_rank, groundtruth))\n",
    "\n",
    "x=range(200,300,20)\n",
    "plt.plot(x, map_value)\n",
    "plt.xlabel('Number of Topics')\n",
    "plt.ylabel('mAP score')\n",
    "plt.show()"
   ]
  },
  {
   "cell_type": "code",
   "execution_count": 17,
   "metadata": {},
   "outputs": [
    {
     "data": {
      "text/plain": [
       "0.4408683778722717"
      ]
     },
     "execution_count": 17,
     "metadata": {},
     "output_type": "execute_result"
    }
   ],
   "source": [
    "np.max(map_value)"
   ]
  }
 ],
 "metadata": {
  "interpreter": {
   "hash": "669c57335d814790a0a8ea20dc08c100929a5b6e7176d5937f3f567eb2cddf61"
  },
  "kernelspec": {
   "display_name": "Python 3.7.9 64-bit",
   "language": "python",
   "name": "python3"
  },
  "language_info": {
   "codemirror_mode": {
    "name": "ipython",
    "version": 3
   },
   "file_extension": ".py",
   "mimetype": "text/x-python",
   "name": "python",
   "nbconvert_exporter": "python",
   "pygments_lexer": "ipython3",
   "version": "3.7.9"
  },
  "orig_nbformat": 4
 },
 "nbformat": 4,
 "nbformat_minor": 2
}
